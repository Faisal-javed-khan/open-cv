{
 "cells": [
  {
   "cell_type": "code",
   "execution_count": 5,
   "id": "fd05232e",
   "metadata": {},
   "outputs": [
    {
     "name": "stdout",
     "output_type": "stream",
     "text": [
      "(183, 275, 3)\n",
      "height i s183 and its width is 275\n"
     ]
    },
    {
     "data": {
      "text/plain": [
       "True"
      ]
     },
     "execution_count": 5,
     "metadata": {},
     "output_type": "execute_result"
    }
   ],
   "source": [
    "import cv2\n",
    "img=cv2.imread(\"w1.jfif\")\n",
    "cv2.imshow(\"nature\", img)\n",
    "cv2.waitKey(0)\n",
    "# This is necessary to be required so that the image doesn't close immediately\n",
    "cv2.destroyAllWindows()#It will run continuously until the key press. \n",
    "\n",
    "h, w=img.shape[:2]\n",
    "\n",
    "print(img.shape)\n",
    "print(f\"height i s{h} and its width is {w}\")\n",
    "\n",
    "cv2.imwrite(\"nature.png\", img)# save image "
   ]
  },
  {
   "cell_type": "code",
   "execution_count": null,
   "id": "6dd7a387",
   "metadata": {},
   "outputs": [],
   "source": []
  },
  {
   "cell_type": "code",
   "execution_count": 6,
   "id": "ec711074",
   "metadata": {},
   "outputs": [
    {
     "name": "stdout",
     "output_type": "stream",
     "text": [
      "[194 206 240]\n",
      "in bgr blue value is =  194\n",
      "in bge green value is  206\n",
      "in bgr red value is  240\n",
      "194\n",
      "206\n",
      "240\n"
     ]
    }
   ],
   "source": [
    "px=img[100,100]\n",
    "print(px)\n",
    "blue=img[100 , 100 , 0]\n",
    "print(\"in bgr blue value is = \" ,blue)\n",
    "green=img[100 , 100 , 1]\n",
    "print(\"in bge green value is \" , green)\n",
    "red=img[100 , 100 ,2]\n",
    "print(\"in bgr red value is \" ,red)\n",
    "##or like this \n",
    "b,g,r=img[100,100]\n",
    "print(b)\n",
    "print(g)\n",
    "print(r)\n",
    "\n",
    "\n"
   ]
  },
  {
   "cell_type": "code",
   "execution_count": 7,
   "id": "73c1bd6f",
   "metadata": {},
   "outputs": [
    {
     "data": {
      "text/plain": [
       "238"
      ]
     },
     "execution_count": 7,
     "metadata": {},
     "output_type": "execute_result"
    }
   ],
   "source": [
    "img.item(10,10,2)\n",
    "img.item(10,10,1)\n",
    "img.item(10,10,0)"
   ]
  },
  {
   "cell_type": "code",
   "execution_count": 8,
   "id": "b02023f6",
   "metadata": {},
   "outputs": [
    {
     "name": "stdout",
     "output_type": "stream",
     "text": [
      "[[238 237 237 ... 209 209 209]\n",
      " [238 238 237 ... 209 209 209]\n",
      " [238 238 238 ... 210 210 210]\n",
      " ...\n",
      " [153 139 107 ...  70  69  68]\n",
      " [101 107  99 ...  34  34  34]\n",
      " [ 93 121 121 ...  65  62  56]]\n",
      "[[228 227 227 ... 173 173 173]\n",
      " [228 228 227 ... 173 173 173]\n",
      " [227 227 227 ... 174 174 174]\n",
      " ...\n",
      " [142 132 100 ...  59  59  57]\n",
      " [ 90 100  92 ...  23  23  23]\n",
      " [ 82 114 114 ...  53  50  44]]\n",
      "[[204 203 203 ... 109 109 109]\n",
      " [204 204 203 ... 109 109 109]\n",
      " [205 205 205 ... 110 110 110]\n",
      " ...\n",
      " [120 107  73 ...  27  25  25]\n",
      " [ 68  75  65 ...   0   0   0]\n",
      " [ 60  89  87 ...  25  22  16]]\n"
     ]
    }
   ],
   "source": [
    "img.dtype\n",
    "# Splitting and Merging Image Channels\n",
    "b,g,r=cv2.split(img)\n",
    "print(b)\n",
    "print(g)\n",
    "print(r)\n",
    "\n",
    "\n"
   ]
  },
  {
   "cell_type": "code",
   "execution_count": 9,
   "id": "5eca7a49",
   "metadata": {},
   "outputs": [
    {
     "name": "stdout",
     "output_type": "stream",
     "text": [
      "[[0 0 0 ... 0 0 0]\n",
      " [0 0 0 ... 0 0 0]\n",
      " [0 0 0 ... 0 0 0]\n",
      " ...\n",
      " [0 0 0 ... 0 0 0]\n",
      " [0 0 0 ... 0 0 0]\n",
      " [0 0 0 ... 0 0 0]]\n"
     ]
    }
   ],
   "source": [
    "img[:,:,2]=0  #sets all values in red channel as zero\n",
    "red=img[:,:,2]\n",
    "# img[:,:,1]=0 ##set green is set to be zero only blue pic will shown \n",
    "print(red)\n",
    "# img1=cv2.imread(\"nature.png\")\n",
    "\n",
    "\n",
    "cv2.imshow(\"red is zero\" ,img)\n",
    "cv2.waitKey(0)\n",
    "cv2.destroyAllWindows()"
   ]
  },
  {
   "cell_type": "markdown",
   "id": "4684b4c3",
   "metadata": {},
   "source": [
    "## Interpolation(optional) – This flag uses following methods:\n",
    "\n",
    "Interpolation(optional) – This flag uses following methods:\n",
    "INTER_NEAREST – a nearest-neighbor interpolation\n",
    "INTER_LINEAR – a bilinear interpolation (used by default) \n",
    "INTER_AREA – resampling using pixel area relation. It may be a preferred method for image decimation, as it gives moire’-free results. But when the image is zoomed, it is similar to the INTER_NEAREST method.\n",
    "INTER_CUBIC – a bicubic interpolation over 4×4 pixel neighborhood \n",
    "INTER_LANCZOS4 – a Lanczos interpolation over 8×8 pixel neighborhood"
   ]
  },
  {
   "cell_type": "code",
   "execution_count": 10,
   "id": "bad2b076",
   "metadata": {},
   "outputs": [],
   "source": [
    "###cv2.resize(s, size,fx,fy,interpolation)\n",
    "import cv2\n",
    "\n",
    "\n",
    "img_resize=cv2.resize(img  , (700 ,500) ,interpolation=cv2.INTER_NEAREST)\n",
    "cv2.imshow(\"RESIZED IMAGE\", img_resize)\n",
    "cv2.waitKey(0)\n",
    "cv2.destroyAllWindows()"
   ]
  },
  {
   "cell_type": "code",
   "execution_count": 2,
   "id": "35670433",
   "metadata": {},
   "outputs": [
    {
     "ename": "NameError",
     "evalue": "name 'cv' is not defined",
     "output_type": "error",
     "traceback": [
      "\u001b[1;31m---------------------------------------------------------------------------\u001b[0m",
      "\u001b[1;31mNameError\u001b[0m                                 Traceback (most recent call last)",
      "Input \u001b[1;32mIn [2]\u001b[0m, in \u001b[0;36m<cell line: 16>\u001b[1;34m()\u001b[0m\n\u001b[0;32m     16\u001b[0m isTrue , frame\u001b[38;5;241m=\u001b[39mcapture\u001b[38;5;241m.\u001b[39mread()   \u001b[38;5;66;03m###istrue use for are every frame read coreectly\u001b[39;00m\n\u001b[0;32m     17\u001b[0m cv2\u001b[38;5;241m.\u001b[39mimshow(\u001b[38;5;124m\"\u001b[39m\u001b[38;5;124mvidio khan\u001b[39m\u001b[38;5;124m\"\u001b[39m , frame)\n\u001b[1;32m---> 19\u001b[0m resizeimage\u001b[38;5;241m=\u001b[39m\u001b[43mresize_image\u001b[49m\u001b[43m(\u001b[49m\u001b[43mframe\u001b[49m\u001b[43m \u001b[49m\u001b[43m,\u001b[49m\u001b[43m \u001b[49m\u001b[38;5;241;43m30\u001b[39;49m\u001b[43m)\u001b[49m\n\u001b[0;32m     20\u001b[0m cv2\u001b[38;5;241m.\u001b[39mimshow(\u001b[38;5;124m\"\u001b[39m\u001b[38;5;124miimage resize\u001b[39m\u001b[38;5;124m\"\u001b[39m , resizeimage)\n\u001b[0;32m     21\u001b[0m \u001b[38;5;28;01mif\u001b[39;00m cv2\u001b[38;5;241m.\u001b[39mwaitKey(\u001b[38;5;241m1\u001b[39m)\u001b[38;5;241m==\u001b[39m\u001b[38;5;28mord\u001b[39m(\u001b[38;5;124m\"\u001b[39m\u001b[38;5;124md\u001b[39m\u001b[38;5;124m\"\u001b[39m):\n",
      "Input \u001b[1;32mIn [2]\u001b[0m, in \u001b[0;36mresize_image\u001b[1;34m(frame, percent)\u001b[0m\n\u001b[0;32m      7\u001b[0m height\u001b[38;5;241m=\u001b[39m\u001b[38;5;28mint\u001b[39m(frame\u001b[38;5;241m.\u001b[39mshape[\u001b[38;5;241m0\u001b[39m]\u001b[38;5;241m*\u001b[39mpercent\u001b[38;5;241m/\u001b[39m\u001b[38;5;241m100\u001b[39m)\n\u001b[0;32m      8\u001b[0m dimension\u001b[38;5;241m=\u001b[39m(width , height)\n\u001b[1;32m----> 9\u001b[0m \u001b[38;5;28;01mreturn\u001b[39;00m cv2\u001b[38;5;241m.\u001b[39mresize(frame,dimension , interpolation\u001b[38;5;241m=\u001b[39m \u001b[43mcv\u001b[49m\u001b[38;5;241m.\u001b[39mINTER_AREA)\n",
      "\u001b[1;31mNameError\u001b[0m: name 'cv' is not defined"
     ]
    }
   ],
   "source": [
    "import cv2\n",
    "\n",
    "\n",
    "# crete method for the resizing the image this work image, video, live vidios\n",
    "def resize_image(frame , percent=20):\n",
    "    width=int(frame.shape[1]*percent/100)\n",
    "    height=int(frame.shape[0]*percent/100)\n",
    "    dimension=(width , height)\n",
    "    return cv2.resize(frame,dimension , interpolation= cv.INTER_AREA)\n",
    "\n",
    "\n",
    "capture=cv2.VideoCapture(\"cat.mp4\") ##if i want to use camera of laptop then instead file name use 0 for laptop camera\n",
    "while True: ##to read evry fram of the vidio\n",
    "    \n",
    "    \n",
    "    isTrue , frame=capture.read()   ###istrue use for are every frame read coreectly\n",
    "    cv2.imshow(\"vidio khan\" , frame)\n",
    "    \n",
    "    resizeimage=resize_image(frame , 30)\n",
    "    cv2.imshow(\"iimage resize\" , resizeimage)\n",
    "    if cv2.waitKey(1)==ord(\"d\"):\n",
    "        break\n",
    "capture.release()\n",
    "cv2.waitKey(0)\n",
    "cv2.destroyAllWindows()\n"
   ]
  },
  {
   "cell_type": "code",
   "execution_count": 1,
   "id": "bbaa44dc",
   "metadata": {},
   "outputs": [],
   "source": [
    "import cv2 as cv\n",
    "capt=cv.VideoCapture(0)\n",
    "while True:\n",
    "    isTrue , frame=capt.read()\n",
    "    cv.imshow(\"camera video\", frame)\n",
    "    if cv.waitKey(1)==ord('d'):\n",
    "        break\n",
    "capt.release()\n",
    "cv.waitKey(0)\n",
    "cv.destroyAllWindows()\n",
    "    "
   ]
  },
  {
   "cell_type": "code",
   "execution_count": 6,
   "id": "dea2f040",
   "metadata": {},
   "outputs": [],
   "source": [
    "capt=cv.VideoCapture(0)\n",
    "while True:\n",
    "    isTrue, frame=capt.read()\n",
    "    cv.imshow(\"vido is runninng\" , frame)\n",
    "    if cv.waitKey(1)== ord('d'):\n",
    "        break\n",
    "capt.release()\n",
    "cv.waitKey(0)\n",
    "cv.destroyAllWindows()\n",
    "    \n",
    "  "
   ]
  },
  {
   "cell_type": "code",
   "execution_count": null,
   "id": "5d0078e3",
   "metadata": {},
   "outputs": [],
   "source": []
  },
  {
   "cell_type": "code",
   "execution_count": null,
   "id": "b8ccbf2e",
   "metadata": {},
   "outputs": [],
   "source": [
    "import cv2 as cv\n",
    "img=cv.imread(\"w2.jpg\")\n",
    "cv.imshow(\"cat\" ,img )\n",
    "# create method for reizeing\n",
    "def resize_image(frame , percent=20):\n",
    "    width=int(frame.shape[1]*percent/100)\n",
    "    height=int(frame.shape[0]*percent/100)\n",
    "    dimension=(width , height)\n",
    "    return cv.resize(frame,dimension , interpolation= cv.INTER_NEAREST)\n",
    "\n",
    "resizeimage=resize_image(img,60)\n",
    "cv.imshow(\"iimage resize\" , resizeimage)\n",
    "\n",
    "\n",
    "cv.waitKey(0)\n",
    "cv.destroyAllWindows()"
   ]
  },
  {
   "cell_type": "code",
   "execution_count": null,
   "id": "71650068",
   "metadata": {},
   "outputs": [],
   "source": [
    "import numpy as np\n",
    "blank=np.zeros((300 , 300 , 3) , dtype='uint8')\n",
    "cv.imshow(\"bllank\" , blank)\n",
    "blank[:]=0,0,255 ##entire value is this img[:]\n",
    "cv.imshow(\"red\" , blank)\n",
    "blank[:]=0,255,0\n",
    "cv.imshow(\"green\" , blank)\n",
    "blank[:]=255,0,0\n",
    "cv.imshow(\"blue\" , blank)\n",
    "\n",
    "blank[100:200 , 200,300]=0,0,255\n",
    "cv.imshow(\"square\" , blank)\n",
    "cv.waitKey(0)\n",
    "cv.destroyAllWindows()"
   ]
  },
  {
   "cell_type": "code",
   "execution_count": null,
   "id": "5ad26a54",
   "metadata": {},
   "outputs": [],
   "source": [
    "import numpy as np\n",
    "blank=np.zeros((300 , 300 , 3) , dtype='uint8')\n",
    "cv.imshow(\"bllank\" , blank)\n",
    "blank[:]=0,0,255 ##entire value is this img[:]\n",
    "cv.imshow(\"red\" , blank)\n",
    "cv.waitKey(0)\n",
    "cv.destroyAllWindows()"
   ]
  },
  {
   "cell_type": "code",
   "execution_count": 5,
   "id": "bf15d51d",
   "metadata": {},
   "outputs": [
    {
     "ename": "AttributeError",
     "evalue": "module 'cv2' has no attribute 'COLOR_BGR2CMYK'",
     "output_type": "error",
     "traceback": [
      "\u001b[1;31m---------------------------------------------------------------------------\u001b[0m",
      "\u001b[1;31mAttributeError\u001b[0m                            Traceback (most recent call last)",
      "Input \u001b[1;32mIn [5]\u001b[0m, in \u001b[0;36m<cell line: 6>\u001b[1;34m()\u001b[0m\n\u001b[0;32m      4\u001b[0m grayscale\u001b[38;5;241m=\u001b[39mcv\u001b[38;5;241m.\u001b[39mcvtColor(image, cv\u001b[38;5;241m.\u001b[39mCOLOR_BGR2GRAY)\n\u001b[0;32m      5\u001b[0m hsvimg\u001b[38;5;241m=\u001b[39mcv\u001b[38;5;241m.\u001b[39mcvtColor(image, cv\u001b[38;5;241m.\u001b[39mCOLOR_BGR2HSV)\n\u001b[1;32m----> 6\u001b[0m cmykimg\u001b[38;5;241m=\u001b[39mcv\u001b[38;5;241m.\u001b[39mcvtColor(image, \u001b[43mcv\u001b[49m\u001b[38;5;241;43m.\u001b[39;49m\u001b[43mCOLOR_BGR2CMYK\u001b[49m)\n\u001b[0;32m     10\u001b[0m cv\u001b[38;5;241m.\u001b[39mimshow(\u001b[38;5;124m\"\u001b[39m\u001b[38;5;124mgray pictur\u001b[39m\u001b[38;5;124m\"\u001b[39m ,grayscale)\n\u001b[0;32m     11\u001b[0m cv\u001b[38;5;241m.\u001b[39mimshow(\u001b[38;5;124m\"\u001b[39m\u001b[38;5;124mhsvimage\u001b[39m\u001b[38;5;124m\"\u001b[39m , hsvimg)\n",
      "\u001b[1;31mAttributeError\u001b[0m: module 'cv2' has no attribute 'COLOR_BGR2CMYK'"
     ]
    }
   ],
   "source": [
    "import cv2 as cv\n",
    "image=cv.imread(\"w2.jpg\")\n",
    "cv.imshow(\"image showing\" ,image )\n",
    "grayscale=cv.cvtColor(image, cv.COLOR_BGR2GRAY)\n",
    "hsvimg=cv.cvtColor(image, cv.COLOR_BGR2HSV)\n",
    "cmykimg=cv.cvtColor(image, cv.COLOR_BGR2CMYK)\n",
    "\n",
    "\n",
    "\n",
    "cv.imshow(\"gray pictur\" ,grayscale)\n",
    "cv.imshow(\"hsvimage\" , hsvimg)\n",
    "cv.imshow(\"cmk image\" ,cmykimg)\n",
    "\n",
    "\n",
    "cv.waitKey(0)\n",
    "cv.destroyAllWindows()"
   ]
  }
 ],
 "metadata": {
  "kernelspec": {
   "display_name": "Python 3 (ipykernel)",
   "language": "python",
   "name": "python3"
  },
  "language_info": {
   "codemirror_mode": {
    "name": "ipython",
    "version": 3
   },
   "file_extension": ".py",
   "mimetype": "text/x-python",
   "name": "python",
   "nbconvert_exporter": "python",
   "pygments_lexer": "ipython3",
   "version": "3.9.12"
  }
 },
 "nbformat": 4,
 "nbformat_minor": 5
}
